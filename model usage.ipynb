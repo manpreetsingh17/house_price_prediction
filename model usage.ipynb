{
 "cells": [
  {
   "cell_type": "markdown",
   "id": "a9c0a2de",
   "metadata": {},
   "source": [
    "## using the model"
   ]
  },
  {
   "cell_type": "code",
   "execution_count": 1,
   "id": "74a3ab49",
   "metadata": {},
   "outputs": [],
   "source": [
    "from joblib import dump, load\n",
    "import numpy as np\n",
    "model = load('A24.joblib')\n",
    "input = np.array([[-0.43942006,  8.12628155, -1.12165014, -0.27288841, -1.42262747,\n",
    "       1.24141041, .31238772,  34.61111401, .0016859 , -0.5778192 ,\n",
    "       -0.97491834,  1.41164221, .86091034]])\n",
    "model.predict(input)"
   ]
  },
  {
   "cell_type": "code",
   "execution_count": null,
   "id": "9b1b5096",
   "metadata": {},
   "outputs": [],
   "source": []
  }
 ],
 "metadata": {
  "kernelspec": {
   "display_name": "Python 3 (ipykernel)",
   "language": "python",
   "name": "python3"
  },
  "language_info": {
   "codemirror_mode": {
    "name": "ipython",
    "version": 3
   },
   "file_extension": ".py",
   "mimetype": "text/x-python",
   "name": "python",
   "nbconvert_exporter": "python",
   "pygments_lexer": "ipython3",
   "version": "3.10.4"
  }
 },
 "nbformat": 4,
 "nbformat_minor": 5
}
